{
 "cells": [
  {
   "cell_type": "code",
   "execution_count": 9,
   "id": "f5c19311",
   "metadata": {},
   "outputs": [],
   "source": [
    "#Write a function that returns the lesser of two given numbers if both numbers are even, but returns the greater if one or both numbers are odd\n",
    "def lesser(a,b):\n",
    "    if a%2 == 0 and b%2 == 0:\n",
    "        result = min(a,b)\n",
    "    else:\n",
    "        result = max(a,b)\n",
    "    \n",
    "    return result\n",
    "        "
   ]
  },
  {
   "cell_type": "code",
   "execution_count": 3,
   "id": "89a54c1f",
   "metadata": {},
   "outputs": [
    {
     "data": {
      "text/plain": [
       "2"
      ]
     },
     "execution_count": 3,
     "metadata": {},
     "output_type": "execute_result"
    }
   ],
   "source": [
    "lesser(2,4)"
   ]
  },
  {
   "cell_type": "code",
   "execution_count": 4,
   "id": "b3d60e63",
   "metadata": {},
   "outputs": [
    {
     "data": {
      "text/plain": [
       "5"
      ]
     },
     "execution_count": 4,
     "metadata": {},
     "output_type": "execute_result"
    }
   ],
   "source": [
    "lesser(2,5)"
   ]
  },
  {
   "cell_type": "code",
   "execution_count": 5,
   "id": "b31f7b1f",
   "metadata": {},
   "outputs": [],
   "source": [
    "\n",
    "\n",
    "\n",
    "#Write a function takes a two-word string and returns True if both words begin with same letter\n",
    "def animal(text):\n",
    "    word = text.split()\n",
    "    \n",
    "    first = word[0]\n",
    "    second = word[1]\n",
    "    \n",
    "    return first[0] == second[0]\n",
    "\n"
   ]
  },
  {
   "cell_type": "code",
   "execution_count": 8,
   "id": "11d6561a",
   "metadata": {},
   "outputs": [
    {
     "data": {
      "text/plain": [
       "False"
      ]
     },
     "execution_count": 8,
     "metadata": {},
     "output_type": "execute_result"
    }
   ],
   "source": [
    "animal('El Gato')"
   ]
  },
  {
   "cell_type": "code",
   "execution_count": 21,
   "id": "f0c709aa",
   "metadata": {},
   "outputs": [
    {
     "data": {
      "text/plain": [
       "True"
      ]
     },
     "execution_count": 21,
     "metadata": {},
     "output_type": "execute_result"
    }
   ],
   "source": [
    "animal('Pradnya Perez')"
   ]
  },
  {
   "cell_type": "code",
   "execution_count": 22,
   "id": "3e42b951",
   "metadata": {},
   "outputs": [],
   "source": [
    "\n",
    "\n",
    "\n",
    "\n",
    "#Given two integers, return True if the sum of the integers is 20 or if one of the integers is 20. If not, return False\n",
    "def zwanzig(a,b):\n",
    "    if a==20 or b ==20 or a+b == 20:\n",
    "        return True\n",
    "    else:\n",
    "        return False"
   ]
  },
  {
   "cell_type": "code",
   "execution_count": 13,
   "id": "7dfc8a20",
   "metadata": {},
   "outputs": [
    {
     "data": {
      "text/plain": [
       "True"
      ]
     },
     "execution_count": 13,
     "metadata": {},
     "output_type": "execute_result"
    }
   ],
   "source": [
    "zwanzig(20,1)"
   ]
  },
  {
   "cell_type": "code",
   "execution_count": 14,
   "id": "76f5a1eb",
   "metadata": {},
   "outputs": [
    {
     "data": {
      "text/plain": [
       "True"
      ]
     },
     "execution_count": 14,
     "metadata": {},
     "output_type": "execute_result"
    }
   ],
   "source": [
    "zwanzig(20321,20)"
   ]
  },
  {
   "cell_type": "code",
   "execution_count": 15,
   "id": "6b532759",
   "metadata": {},
   "outputs": [
    {
     "data": {
      "text/plain": [
       "True"
      ]
     },
     "execution_count": 15,
     "metadata": {},
     "output_type": "execute_result"
    }
   ],
   "source": [
    "zwanzig(19,1)"
   ]
  },
  {
   "cell_type": "code",
   "execution_count": 16,
   "id": "0a279128",
   "metadata": {},
   "outputs": [
    {
     "data": {
      "text/plain": [
       "True"
      ]
     },
     "execution_count": 16,
     "metadata": {},
     "output_type": "execute_result"
    }
   ],
   "source": [
    "zwanzig(20,12)"
   ]
  },
  {
   "cell_type": "code",
   "execution_count": 17,
   "id": "80942ad4",
   "metadata": {},
   "outputs": [
    {
     "data": {
      "text/plain": [
       "False"
      ]
     },
     "execution_count": 17,
     "metadata": {},
     "output_type": "execute_result"
    }
   ],
   "source": [
    "zwanzig(20321,12332)"
   ]
  },
  {
   "cell_type": "code",
   "execution_count": 18,
   "id": "83b22fcb",
   "metadata": {},
   "outputs": [
    {
     "data": {
      "text/plain": [
       "True"
      ]
     },
     "execution_count": 18,
     "metadata": {},
     "output_type": "execute_result"
    }
   ],
   "source": [
    "zwanzig(10,10)"
   ]
  },
  {
   "cell_type": "code",
   "execution_count": 24,
   "id": "7b6226f4",
   "metadata": {},
   "outputs": [],
   "source": [
    "\n",
    "\n",
    "\n",
    "\n",
    "#Write a function that capitalizes the first and fourth letters of a name---- USING .UPPER-- capitalizes whole string\n",
    "def text(name):\n",
    "    first = name[0]\n",
    "    between = name[1:3]\n",
    "    fourth = name[3]\n",
    "    rest = name[4:]\n",
    "    return first.upper() + between + fourth.upper() + rest\n",
    "    "
   ]
  },
  {
   "cell_type": "code",
   "execution_count": 25,
   "id": "7b320153",
   "metadata": {},
   "outputs": [
    {
     "data": {
      "text/plain": [
       "'WotErlemon'"
      ]
     },
     "execution_count": 25,
     "metadata": {},
     "output_type": "execute_result"
    }
   ],
   "source": [
    "text('woterlemon')\n"
   ]
  },
  {
   "cell_type": "code",
   "execution_count": null,
   "id": "e6088ff4",
   "metadata": {},
   "outputs": [],
   "source": [
    "\n",
    "\n",
    "#Write a function that capitalizes the first and fourth letters of a name---- USING .CAPITALIZE -capitalizes only the first letter of a string"
   ]
  },
  {
   "cell_type": "code",
   "execution_count": 20,
   "id": "4d9ca4f2",
   "metadata": {},
   "outputs": [],
   "source": [
    "def text(name):\n",
    "    p1 = name[:3]\n",
    "    p2 = name[3:]\n",
    "    return p1.capitalize + p2.capitalize"
   ]
  },
  {
   "cell_type": "code",
   "execution_count": 26,
   "id": "d9a0cb3f",
   "metadata": {},
   "outputs": [
    {
     "data": {
      "text/plain": [
       "'WotErlemon'"
      ]
     },
     "execution_count": 26,
     "metadata": {},
     "output_type": "execute_result"
    }
   ],
   "source": [
    "text('woterlemon')"
   ]
  },
  {
   "cell_type": "code",
   "execution_count": 37,
   "id": "6fadb729",
   "metadata": {},
   "outputs": [],
   "source": [
    "\n",
    "\n",
    "\n",
    "# Given a sentence, return a sentence with the words reversed\n",
    "def yoda(text):\n",
    "    word = text.split()\n",
    "    reversetext = word[::-1]\n",
    "    return ' '.join(reversetext)\n"
   ]
  },
  {
   "cell_type": "code",
   "execution_count": 38,
   "id": "c7cbdc92",
   "metadata": {},
   "outputs": [
    {
     "data": {
      "text/plain": [
       "'There Hello'"
      ]
     },
     "execution_count": 38,
     "metadata": {},
     "output_type": "execute_result"
    }
   ],
   "source": [
    "yoda('Hello There')"
   ]
  },
  {
   "cell_type": "code",
   "execution_count": 39,
   "id": "289600f2",
   "metadata": {},
   "outputs": [
    {
     "data": {
      "text/plain": [
       "'wall your in am I'"
      ]
     },
     "execution_count": 39,
     "metadata": {},
     "output_type": "execute_result"
    }
   ],
   "source": [
    "yoda('I am in your wall')"
   ]
  },
  {
   "cell_type": "code",
   "execution_count": 43,
   "id": "da11f09d",
   "metadata": {},
   "outputs": [],
   "source": [
    "\n",
    "\n",
    "\n",
    "#Given an integer n, return True if n is within 10 of either 100 or 200\n",
    "def near(num):\n",
    "    if abs(100-num) <= 10 or abs(200-num) <= 10:\n",
    "        return True\n",
    "    else:\n",
    "        return False"
   ]
  },
  {
   "cell_type": "code",
   "execution_count": 44,
   "id": "71235c21",
   "metadata": {},
   "outputs": [
    {
     "data": {
      "text/plain": [
       "False"
      ]
     },
     "execution_count": 44,
     "metadata": {},
     "output_type": "execute_result"
    }
   ],
   "source": [
    "near(150)"
   ]
  },
  {
   "cell_type": "code",
   "execution_count": 45,
   "id": "d3b56f76",
   "metadata": {},
   "outputs": [
    {
     "data": {
      "text/plain": [
       "True"
      ]
     },
     "execution_count": 45,
     "metadata": {},
     "output_type": "execute_result"
    }
   ],
   "source": [
    "near(191)"
   ]
  },
  {
   "cell_type": "code",
   "execution_count": 46,
   "id": "3b070012",
   "metadata": {},
   "outputs": [
    {
     "data": {
      "text/plain": [
       "True"
      ]
     },
     "execution_count": 46,
     "metadata": {},
     "output_type": "execute_result"
    }
   ],
   "source": [
    "near(92)"
   ]
  },
  {
   "cell_type": "code",
   "execution_count": 53,
   "id": "bd6c02d6",
   "metadata": {},
   "outputs": [
    {
     "data": {
      "text/plain": [
       "True"
      ]
     },
     "execution_count": 53,
     "metadata": {},
     "output_type": "execute_result"
    }
   ],
   "source": [
    "near(400)"
   ]
  },
  {
   "cell_type": "code",
   "execution_count": 49,
   "id": "80b00139",
   "metadata": {},
   "outputs": [],
   "source": [
    "def near(num):\n",
    "    if 100-num <= 10 or 200-num <= 10:\n",
    "        return True\n",
    "    else:\n",
    "        return False"
   ]
  },
  {
   "cell_type": "code",
   "execution_count": 50,
   "id": "7ff3dc90",
   "metadata": {},
   "outputs": [
    {
     "data": {
      "text/plain": [
       "False"
      ]
     },
     "execution_count": 50,
     "metadata": {},
     "output_type": "execute_result"
    }
   ],
   "source": [
    "near(45)"
   ]
  },
  {
   "cell_type": "code",
   "execution_count": 51,
   "id": "0306b115",
   "metadata": {},
   "outputs": [
    {
     "data": {
      "text/plain": [
       "True"
      ]
     },
     "execution_count": 51,
     "metadata": {},
     "output_type": "execute_result"
    }
   ],
   "source": [
    "near(95)"
   ]
  },
  {
   "cell_type": "code",
   "execution_count": 52,
   "id": "2b1cb673",
   "metadata": {},
   "outputs": [
    {
     "data": {
      "text/plain": [
       "True"
      ]
     },
     "execution_count": 52,
     "metadata": {},
     "output_type": "execute_result"
    }
   ],
   "source": [
    "near(400)"
   ]
  },
  {
   "cell_type": "code",
   "execution_count": 12,
   "id": "0034ba2c",
   "metadata": {},
   "outputs": [],
   "source": [
    "\n",
    "\n",
    "#Given a list of ints, return True if the array contains a 3 next to a 3 somewhere.\n",
    "def has33(num):\n",
    "    for i in range(0,len(num)-1):#take -1 as we need consecutive numbers\n",
    "        if num[i] == 3 and num[i+1] == 3:\n",
    "            return True\n",
    "    return False"
   ]
  },
  {
   "cell_type": "code",
   "execution_count": 13,
   "id": "91345f34",
   "metadata": {},
   "outputs": [
    {
     "data": {
      "text/plain": [
       "True"
      ]
     },
     "execution_count": 13,
     "metadata": {},
     "output_type": "execute_result"
    }
   ],
   "source": [
    "has33([1,3,3])"
   ]
  },
  {
   "cell_type": "code",
   "execution_count": 14,
   "id": "59217bde",
   "metadata": {},
   "outputs": [
    {
     "data": {
      "text/plain": [
       "False"
      ]
     },
     "execution_count": 14,
     "metadata": {},
     "output_type": "execute_result"
    }
   ],
   "source": [
    "has33([1,3,1,3])"
   ]
  },
  {
   "cell_type": "code",
   "execution_count": 16,
   "id": "0359d4eb",
   "metadata": {},
   "outputs": [
    {
     "data": {
      "text/plain": [
       "True"
      ]
     },
     "execution_count": 16,
     "metadata": {},
     "output_type": "execute_result"
    }
   ],
   "source": [
    "has33([1,2,3,4,5,3,3])"
   ]
  },
  {
   "cell_type": "code",
   "execution_count": 17,
   "id": "ab90a44b",
   "metadata": {},
   "outputs": [],
   "source": [
    "\n",
    "\n",
    "#Given a string, return a string where for every character in the original there are three characters\n",
    "#paper_doll('Hello') --> 'HHHeeellllllooo'\n",
    "#paper_doll('Mississippi') --> 'MMMiiissssssiiippppppiii'\n",
    "\n",
    "def x(text):\n",
    "    result = ''\n",
    "    \n",
    "    for char in text:\n",
    "        result += char*3\n",
    "    return result"
   ]
  },
  {
   "cell_type": "code",
   "execution_count": 18,
   "id": "033c551e",
   "metadata": {},
   "outputs": [
    {
     "data": {
      "text/plain": [
       "'hhheeellllllooo'"
      ]
     },
     "execution_count": 18,
     "metadata": {},
     "output_type": "execute_result"
    }
   ],
   "source": [
    "x('hello')"
   ]
  },
  {
   "cell_type": "code",
   "execution_count": 19,
   "id": "2ebdb2a2",
   "metadata": {},
   "outputs": [
    {
     "data": {
      "text/plain": [
       "'cccaaattt'"
      ]
     },
     "execution_count": 19,
     "metadata": {},
     "output_type": "execute_result"
    }
   ],
   "source": [
    "x('cat')"
   ]
  },
  {
   "cell_type": "code",
   "execution_count": 20,
   "id": "2e1b3685",
   "metadata": {},
   "outputs": [],
   "source": [
    "\n",
    "\n",
    "\n",
    "#Given three integers between 1 and 11, if their sum is less than or equal to 21, return their sum. If their sum exceeds 21 and there's an eleven, reduce the total sum by 10. Finally, if the sum (even after adjustment) exceeds 21, return 'BUST'\n",
    "\n",
    "def x(a,b,c):\n",
    "    if a + b + c <= 21:\n",
    "        return a+b+c\n",
    "    elif 11 in [a,b,c] and a+b+c>21:\n",
    "        return (a+b+c)-10\n",
    "    else:\n",
    "        return 'BUST'"
   ]
  },
  {
   "cell_type": "code",
   "execution_count": 21,
   "id": "ccf8ba0b",
   "metadata": {},
   "outputs": [
    {
     "data": {
      "text/plain": [
       "18"
      ]
     },
     "execution_count": 21,
     "metadata": {},
     "output_type": "execute_result"
    }
   ],
   "source": [
    "x(5,6,7)"
   ]
  },
  {
   "cell_type": "code",
   "execution_count": 22,
   "id": "2b885f10",
   "metadata": {},
   "outputs": [
    {
     "data": {
      "text/plain": [
       "'BUST'"
      ]
     },
     "execution_count": 22,
     "metadata": {},
     "output_type": "execute_result"
    }
   ],
   "source": [
    "x(9,9,9)"
   ]
  },
  {
   "cell_type": "code",
   "execution_count": 23,
   "id": "05aa4068",
   "metadata": {},
   "outputs": [
    {
     "data": {
      "text/plain": [
       "19"
      ]
     },
     "execution_count": 23,
     "metadata": {},
     "output_type": "execute_result"
    }
   ],
   "source": [
    "x(9,9,11)"
   ]
  },
  {
   "cell_type": "code",
   "execution_count": 25,
   "id": "44cc7b67",
   "metadata": {},
   "outputs": [],
   "source": [
    "\n",
    "\n",
    "#Return the sum of the numbers in the array, except ignore sections of numbers starting with a 6 and extending to the next 9 (every 6 will be followed by at least one 9). Return 0 for no numbers\n",
    "def nos(arr):\n",
    "    total = 0\n",
    "    add = True\n",
    "    \n",
    "    for num in arr:\n",
    "        while add:\n",
    "            if num!=6:\n",
    "                total += num\n",
    "                break\n",
    "            else:\n",
    "                add = False\n",
    "        while not add:\n",
    "            if num !=9:\n",
    "                break\n",
    "            else:\n",
    "                add = True\n",
    "                break\n",
    "    return total\n",
    "\n",
    "    "
   ]
  },
  {
   "cell_type": "code",
   "execution_count": 26,
   "id": "44b9dc3e",
   "metadata": {},
   "outputs": [
    {
     "data": {
      "text/plain": [
       "9"
      ]
     },
     "execution_count": 26,
     "metadata": {},
     "output_type": "execute_result"
    }
   ],
   "source": [
    "nos([4, 5, 6, 7, 8, 9])"
   ]
  },
  {
   "cell_type": "code",
   "execution_count": 27,
   "id": "8bd53643",
   "metadata": {},
   "outputs": [
    {
     "data": {
      "text/plain": [
       "14"
      ]
     },
     "execution_count": 27,
     "metadata": {},
     "output_type": "execute_result"
    }
   ],
   "source": [
    "nos([2, 1, 6, 9, 11])"
   ]
  },
  {
   "cell_type": "code",
   "execution_count": null,
   "id": "9930e2b4",
   "metadata": {},
   "outputs": [],
   "source": [
    "\n",
    "\n",
    "\n",
    "#Write a function that takes in a list of integers and returns True if it contains 007 in order\n",
    "\n",
    "def x(nos):\n",
    "    for i in range()"
   ]
  }
 ],
 "metadata": {
  "kernelspec": {
   "display_name": "Python 3 (ipykernel)",
   "language": "python",
   "name": "python3"
  },
  "language_info": {
   "codemirror_mode": {
    "name": "ipython",
    "version": 3
   },
   "file_extension": ".py",
   "mimetype": "text/x-python",
   "name": "python",
   "nbconvert_exporter": "python",
   "pygments_lexer": "ipython3",
   "version": "3.9.12"
  }
 },
 "nbformat": 4,
 "nbformat_minor": 5
}
